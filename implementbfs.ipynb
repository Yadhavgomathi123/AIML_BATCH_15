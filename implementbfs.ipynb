{
  "nbformat": 4,
  "nbformat_minor": 0,
  "metadata": {
    "colab": {
      "provenance": [],
      "authorship_tag": "ABX9TyPb4nnWhYjdSy/Zmbo+Eu6F",
      "include_colab_link": true
    },
    "kernelspec": {
      "name": "python3",
      "display_name": "Python 3"
    },
    "language_info": {
      "name": "python"
    }
  },
  "cells": [
    {
      "cell_type": "markdown",
      "metadata": {
        "id": "view-in-github",
        "colab_type": "text"
      },
      "source": [
        "<a href=\"https://colab.research.google.com/github/Yadhavgomathi123/AIML_BATCH_15/blob/main/implementbfs.ipynb\" target=\"_parent\"><img src=\"https://colab.research.google.com/assets/colab-badge.svg\" alt=\"Open In Colab\"/></a>"
      ]
    },
    {
      "cell_type": "code",
      "execution_count": null,
      "metadata": {
        "id": "rvrtsEM9hiqH"
      },
      "outputs": [],
      "source": []
    },
    {
      "cell_type": "markdown",
      "source": [
        "##implement Breadth First search algorithm using a queue\n"
      ],
      "metadata": {
        "id": "Xr7XUOumiUyy"
      }
    },
    {
      "cell_type": "code",
      "source": [
        "\n",
        "\n",
        "from collections import defaultdict\n",
        "class Graph:\n",
        "\n",
        "\tdef __init__(self):\n",
        "\n",
        "\t\tself.graph = defaultdict(list)\n",
        "\n",
        "\tdef addEdge(self, u, v):\n",
        "\t\tself.graph[u].append(v)\n",
        "\n",
        "\tdef BFS(self, s):\n",
        "\t\tvisited = [False] * (max(self.graph) + 1)\n",
        "\t\tqueue = []\n",
        "\t\tqueue.append(s)\n",
        "\t\tvisited[s] = True\n",
        "\n",
        "\t\twhile queue:\n",
        "\t\t\ts = queue.pop(0)\n",
        "\t\t\tprint(s, end=\" \")\n",
        "\t\t\tfor i in self.graph[s]:\n",
        "\t\t\t\tif visited[i] == False:\n",
        "\t\t\t\t\tqueue.append(i)\n",
        "\t\t\t\t\tvisited[i] = True\n",
        "if __name__ == '__main__':\n",
        "\tg = Graph()\n",
        "\tg.addEdge(0, 1)\n",
        "\tg.addEdge(0, 2)\n",
        "\tg.addEdge(1, 2)\n",
        "\tg.addEdge(2, 0)\n",
        "\tg.addEdge(2, 3)\n",
        "\tg.addEdge(3, 3)\n",
        "\n",
        "\tprint(\"Following is Breadth First Traversal\"\n",
        "\t\t\" (starting from vertex 2)\")\n",
        "\tg.BFS(2)\n",
        "\n",
        "\n"
      ],
      "metadata": {
        "colab": {
          "base_uri": "https://localhost:8080/"
        },
        "id": "HKWuee8MiimU",
        "outputId": "673be71c-f1dc-452d-c367-1bfde573ecbc"
      },
      "execution_count": null,
      "outputs": [
        {
          "output_type": "stream",
          "name": "stdout",
          "text": [
            "Following is Breadth First Traversal (starting from vertex 2)\n",
            "2 0 3 1 "
          ]
        }
      ]
    },
    {
      "cell_type": "code",
      "source": [
        "\n",
        "def addEdge(adj, u, v):\n",
        "\tadj[u].append(v)\n",
        "def adjacencylist(adj, V):\n",
        "\n",
        "\tfor i in range (0, V):\n",
        "\t\tprint(i, \"->\", end=\"\")\n",
        "\n",
        "\t\tfor x in adj[i]:\n",
        "\t\t\tprint(x , \" \", end=\"\")\n",
        "\n",
        "\t\tprint()\n",
        "def initGraph(V, edges, noOfEdges):\n",
        "\n",
        "\tadj = [0]* 3\n",
        "\n",
        "\tfor i in range(0, len(adj)):\n",
        "\t\tadj[i] = []\n",
        "\tfor i in range(0, noOfEdges) :\n",
        "\t\taddEdge(adj, edges[i][0], edges[i][1])\n",
        "\n",
        "\tadjacencylist(adj, V)\n",
        "V = 3\n",
        "edges = [[0, 1 ], [1, 2 ], [2, 0 ]]\n",
        "\n",
        "noOfEdges = 3;\n",
        "initGraph(V, edges, noOfEdges)\n",
        "\n"
      ],
      "metadata": {
        "colab": {
          "base_uri": "https://localhost:8080/"
        },
        "id": "4B-maVyMxOs7",
        "outputId": "b1e62773-7fbd-4743-8003-8edebe65d3b6"
      },
      "execution_count": null,
      "outputs": [
        {
          "output_type": "stream",
          "name": "stdout",
          "text": [
            "0 ->1  \n",
            "1 ->2  \n",
            "2 ->0  \n"
          ]
        }
      ]
    }
  ]
}